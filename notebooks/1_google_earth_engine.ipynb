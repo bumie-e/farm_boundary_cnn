{
 "cells": [
  {
   "cell_type": "code",
   "execution_count": 1,
   "id": "8b1edb62",
   "metadata": {},
   "outputs": [
    {
     "name": "stdout",
     "output_type": "stream",
     "text": [
      "c:\\Users\\akinr\\Desktop\\GitHub\\agoro-field-boundary-detector\n"
     ]
    }
   ],
   "source": [
    "%load_ext autoreload\n",
    "%autoreload 2\n",
    "\n",
    "%cd .."
   ]
  },
  {
   "cell_type": "markdown",
   "id": "8b196bd3",
   "metadata": {},
   "source": [
    "# Google Earth Engine\n",
    "\n",
    "Guiding notebook to show how to work with Google Earth Engine's Python API. More specifically, we'll demonstrate how to work with the National Agriculture Imagery Program (NAIP) data collection wrapper, created under `src/agoro_field_boundary_detection/google_earth_engine`."
   ]
  },
  {
   "cell_type": "code",
   "execution_count": 28,
   "id": "613fcd11",
   "metadata": {},
   "outputs": [],
   "source": [
    "import ee\n",
    "import folium\n",
    "\n",
    "from pathlib import Path\n",
    "from IPython.display import Image \n",
    "\n",
    "from src.agoro_field_boundary_detector.google_earth_engine import (\n",
    "    start_session, \n",
    "    create_bounding_box, \n",
    "    to_polygon,\n",
    "    NaipCollection,\n",
    "    create_map,\n",
    "    show_point,\n",
    "    show_polygon,\n",
    ")"
   ]
  },
  {
   "cell_type": "markdown",
   "id": "f694d71f",
   "metadata": {},
   "source": [
    "## Create GEE Session\n",
    "\n",
    "In order to communicate with GEE, we should create and initialise a session first. Note, in order to do this step, you should've [created an account](https://earthengine.google.com/signup/) on GEE first."
   ]
  },
  {
   "cell_type": "code",
   "execution_count": 4,
   "id": "a2bfdc00",
   "metadata": {},
   "outputs": [
    {
     "data": {
      "text/html": [
       "<p>To authorize access needed by Earth Engine, open the following\n",
       "        URL in a web browser and follow the instructions:</p>\n",
       "        <p><a href=https://code.earthengine.google.com/client-auth?scopes=https%3A//www.googleapis.com/auth/earthengine%20https%3A//www.googleapis.com/auth/devstorage.full_control&request_id=mILLPitn2PsXkJeBxU7DGcfuRMGQvCtPLRobA92VgvI&tc=RZgea0vnVUFiBKsFpIQ9EAmoL-nUQFDkLI3xUNNQ--8&cc=5n7VmEKi-WZ_PvQTAa7pjWOn-kx39h7kiGzInpO1eEM>https://code.earthengine.google.com/client-auth?scopes=https%3A//www.googleapis.com/auth/earthengine%20https%3A//www.googleapis.com/auth/devstorage.full_control&request_id=mILLPitn2PsXkJeBxU7DGcfuRMGQvCtPLRobA92VgvI&tc=RZgea0vnVUFiBKsFpIQ9EAmoL-nUQFDkLI3xUNNQ--8&cc=5n7VmEKi-WZ_PvQTAa7pjWOn-kx39h7kiGzInpO1eEM</a></p>\n",
       "        <p>The authorization workflow will generate a code, which you should paste in the box below.</p>\n",
       "        "
      ],
      "text/plain": [
       "<IPython.core.display.HTML object>"
      ]
     },
     "metadata": {},
     "output_type": "display_data"
    },
    {
     "name": "stdout",
     "output_type": "stream",
     "text": [
      "\n",
      "Successfully saved authorization token.\n"
     ]
    }
   ],
   "source": [
    "start_session()"
   ]
  },
  {
   "cell_type": "code",
   "execution_count": null,
   "id": "d3815582",
   "metadata": {},
   "outputs": [],
   "source": []
  },
  {
   "cell_type": "markdown",
   "id": "c7b2291c",
   "metadata": {},
   "source": [
    "## Load Dataset\n",
    "\n",
    "Load in the NAIP dataset for a specified region. This happens via the following steps:\n",
    "1. Specify a coordinate (latitude, longitude) to inspect.\n",
    "2. Create a bounding box around this coordinate. The `create_bounding_box` function will create the bounding-box coordinates `(lat,lng)`, where the `to_polygon` function transforms these coordinates to an Earth Engine `Polygon`.\n",
    "3. Load in the NAIP dataset with images covering this region. By default, we'll use the most recent images. However, it is possible to modify the `startdate` and `enddate` parameters of the collection."
   ]
  },
  {
   "cell_type": "code",
   "execution_count": 9,
   "id": "a972c8ff",
   "metadata": {},
   "outputs": [],
   "source": [
    "# Specify the coordinate\n",
    "LAT = 12.8676476\n",
    "LNG = 11.0284917"
   ]
  },
  {
   "cell_type": "code",
   "execution_count": 10,
   "id": "0bb5b002",
   "metadata": {},
   "outputs": [],
   "source": [
    "# Create bounding box\n",
    "region = to_polygon(create_bounding_box(\n",
    "    lat=LAT,\n",
    "    lng=LNG,\n",
    "))"
   ]
  },
  {
   "cell_type": "code",
   "execution_count": 29,
   "id": "dedbad40",
   "metadata": {},
   "outputs": [
    {
     "name": "stdout",
     "output_type": "stream",
     "text": [
      "Number of images captured: 271\n"
     ]
    }
   ],
   "source": [
    "# Load in the collection\n",
    "collection = NaipCollection(\n",
    "    region=region,\n",
    ")\n",
    "print(f\"Number of images captured:\", collection.get_size())"
   ]
  },
  {
   "cell_type": "markdown",
   "id": "fde9a9c8",
   "metadata": {},
   "source": [
    "## Visualise Data\n",
    "\n",
    "Create a visualisation of the fetched data. To make this possible, we'll use the `Folium` package."
   ]
  },
  {
   "cell_type": "code",
   "execution_count": 30,
   "id": "aae17767",
   "metadata": {},
   "outputs": [
    {
     "data": {
      "text/html": [
       "<div style=\"width:100%;\"><div style=\"position:relative;width:100%;height:0;padding-bottom:60%;\"><span style=\"color:#565656\">Make this Notebook Trusted to load map: File -> Trust Notebook</span><iframe srcdoc=\"&lt;!DOCTYPE html&gt;\n",
       "&lt;head&gt;    \n",
       "    &lt;meta http-equiv=&quot;content-type&quot; content=&quot;text/html; charset=UTF-8&quot; /&gt;\n",
       "    \n",
       "        &lt;script&gt;\n",
       "            L_NO_TOUCH = false;\n",
       "            L_DISABLE_3D = false;\n",
       "        &lt;/script&gt;\n",
       "    \n",
       "    &lt;style&gt;html, body {width: 100%;height: 100%;margin: 0;padding: 0;}&lt;/style&gt;\n",
       "    &lt;style&gt;#map {position:absolute;top:0;bottom:0;right:0;left:0;}&lt;/style&gt;\n",
       "    &lt;script src=&quot;https://cdn.jsdelivr.net/npm/leaflet@1.6.0/dist/leaflet.js&quot;&gt;&lt;/script&gt;\n",
       "    &lt;script src=&quot;https://code.jquery.com/jquery-1.12.4.min.js&quot;&gt;&lt;/script&gt;\n",
       "    &lt;script src=&quot;https://maxcdn.bootstrapcdn.com/bootstrap/3.2.0/js/bootstrap.min.js&quot;&gt;&lt;/script&gt;\n",
       "    &lt;script src=&quot;https://cdnjs.cloudflare.com/ajax/libs/Leaflet.awesome-markers/2.0.2/leaflet.awesome-markers.js&quot;&gt;&lt;/script&gt;\n",
       "    &lt;link rel=&quot;stylesheet&quot; href=&quot;https://cdn.jsdelivr.net/npm/leaflet@1.6.0/dist/leaflet.css&quot;/&gt;\n",
       "    &lt;link rel=&quot;stylesheet&quot; href=&quot;https://maxcdn.bootstrapcdn.com/bootstrap/3.2.0/css/bootstrap.min.css&quot;/&gt;\n",
       "    &lt;link rel=&quot;stylesheet&quot; href=&quot;https://maxcdn.bootstrapcdn.com/bootstrap/3.2.0/css/bootstrap-theme.min.css&quot;/&gt;\n",
       "    &lt;link rel=&quot;stylesheet&quot; href=&quot;https://maxcdn.bootstrapcdn.com/font-awesome/4.6.3/css/font-awesome.min.css&quot;/&gt;\n",
       "    &lt;link rel=&quot;stylesheet&quot; href=&quot;https://cdnjs.cloudflare.com/ajax/libs/Leaflet.awesome-markers/2.0.2/leaflet.awesome-markers.css&quot;/&gt;\n",
       "    &lt;link rel=&quot;stylesheet&quot; href=&quot;https://cdn.jsdelivr.net/gh/python-visualization/folium/folium/templates/leaflet.awesome.rotate.min.css&quot;/&gt;\n",
       "    \n",
       "            &lt;meta name=&quot;viewport&quot; content=&quot;width=device-width,\n",
       "                initial-scale=1.0, maximum-scale=1.0, user-scalable=no&quot; /&gt;\n",
       "            &lt;style&gt;\n",
       "                #map_43d2caae28f573ecaf6ded4a00f787c8 {\n",
       "                    position: relative;\n",
       "                    width: 100.0%;\n",
       "                    height: 100.0%;\n",
       "                    left: 0.0%;\n",
       "                    top: 0.0%;\n",
       "                }\n",
       "            &lt;/style&gt;\n",
       "        \n",
       "&lt;/head&gt;\n",
       "&lt;body&gt;    \n",
       "    \n",
       "            &lt;div class=&quot;folium-map&quot; id=&quot;map_43d2caae28f573ecaf6ded4a00f787c8&quot; &gt;&lt;/div&gt;\n",
       "        \n",
       "&lt;/body&gt;\n",
       "&lt;script&gt;    \n",
       "    \n",
       "            var map_43d2caae28f573ecaf6ded4a00f787c8 = L.map(\n",
       "                &quot;map_43d2caae28f573ecaf6ded4a00f787c8&quot;,\n",
       "                {\n",
       "                    center: [12.8676476, 11.0284917],\n",
       "                    crs: L.CRS.EPSG3857,\n",
       "                    zoom: 14,\n",
       "                    zoomControl: true,\n",
       "                    preferCanvas: false,\n",
       "                }\n",
       "            );\n",
       "\n",
       "            \n",
       "\n",
       "        \n",
       "    \n",
       "            var tile_layer_5ace6c7f004b259aab917f69e4ab0db8 = L.tileLayer(\n",
       "                &quot;https://{s}.tile.openstreetmap.org/{z}/{x}/{y}.png&quot;,\n",
       "                {&quot;attribution&quot;: &quot;Data by \\u0026copy; \\u003ca href=\\&quot;http://openstreetmap.org\\&quot;\\u003eOpenStreetMap\\u003c/a\\u003e, under \\u003ca href=\\&quot;http://www.openstreetmap.org/copyright\\&quot;\\u003eODbL\\u003c/a\\u003e.&quot;, &quot;detectRetina&quot;: false, &quot;maxNativeZoom&quot;: 18, &quot;maxZoom&quot;: 18, &quot;minZoom&quot;: 0, &quot;noWrap&quot;: false, &quot;opacity&quot;: 1, &quot;subdomains&quot;: &quot;abc&quot;, &quot;tms&quot;: false}\n",
       "            ).addTo(map_43d2caae28f573ecaf6ded4a00f787c8);\n",
       "        \n",
       "    \n",
       "            var tile_layer_953a718695e9556bdb98c840e763e29f = L.tileLayer(\n",
       "                &quot;https://earthengine.googleapis.com/v1alpha/projects/earthengine-legacy/maps/e22a14e7bf265c6b4133737245e27507-8e2131a41639c1f0f9a21185a79580e4/tiles/{z}/{x}/{y}&quot;,\n",
       "                {&quot;attribution&quot;: &quot;Google Earth Engine&quot;, &quot;detectRetina&quot;: false, &quot;maxNativeZoom&quot;: 18, &quot;maxZoom&quot;: 18, &quot;minZoom&quot;: 0, &quot;noWrap&quot;: false, &quot;opacity&quot;: 1, &quot;subdomains&quot;: &quot;abc&quot;, &quot;tms&quot;: false}\n",
       "            ).addTo(map_43d2caae28f573ecaf6ded4a00f787c8);\n",
       "        \n",
       "    \n",
       "        function geo_json_ffadfc1bee0db85c40abcb3aa1a1b667_styler(feature) {\n",
       "            switch(feature.id) {\n",
       "                default:\n",
       "                    return {&quot;color&quot;: &quot;#ff0000&quot;, &quot;fillOpacity&quot;: 0};\n",
       "            }\n",
       "        }\n",
       "\n",
       "        function geo_json_ffadfc1bee0db85c40abcb3aa1a1b667_onEachFeature(feature, layer) {\n",
       "            layer.on({\n",
       "            });\n",
       "        };\n",
       "        var geo_json_ffadfc1bee0db85c40abcb3aa1a1b667 = L.geoJson(null, {\n",
       "                onEachFeature: geo_json_ffadfc1bee0db85c40abcb3aa1a1b667_onEachFeature,\n",
       "            \n",
       "                style: geo_json_ffadfc1bee0db85c40abcb3aa1a1b667_styler,\n",
       "        });\n",
       "\n",
       "        function geo_json_ffadfc1bee0db85c40abcb3aa1a1b667_add (data) {\n",
       "            geo_json_ffadfc1bee0db85c40abcb3aa1a1b667\n",
       "                .addData(data)\n",
       "                .addTo(map_43d2caae28f573ecaf6ded4a00f787c8);\n",
       "        }\n",
       "            geo_json_ffadfc1bee0db85c40abcb3aa1a1b667_add({&quot;features&quot;: [{&quot;geometry&quot;: {&quot;coordinates&quot;: [[[11.023773846760603, 12.863048225745308], [11.033209553239397, 12.863048225745308], [11.033209553239397, 12.872246974254692], [11.023773846760603, 12.872246974254692], [11.023773846760603, 12.863048225745308]]], &quot;type&quot;: &quot;Polygon&quot;}, &quot;id&quot;: &quot;0&quot;, &quot;type&quot;: &quot;Feature&quot;}], &quot;type&quot;: &quot;FeatureCollection&quot;});\n",
       "\n",
       "        \n",
       "    \n",
       "        function geo_json_98d05786af08199d8f9bea63dfc08975_styler(feature) {\n",
       "            switch(feature.id) {\n",
       "                default:\n",
       "                    return {&quot;color&quot;: &quot;#ff0000&quot;};\n",
       "            }\n",
       "        }\n",
       "\n",
       "        function geo_json_98d05786af08199d8f9bea63dfc08975_onEachFeature(feature, layer) {\n",
       "            layer.on({\n",
       "            });\n",
       "        };\n",
       "        var geo_json_98d05786af08199d8f9bea63dfc08975 = L.geoJson(null, {\n",
       "                onEachFeature: geo_json_98d05786af08199d8f9bea63dfc08975_onEachFeature,\n",
       "            \n",
       "                style: geo_json_98d05786af08199d8f9bea63dfc08975_styler,\n",
       "        });\n",
       "\n",
       "        function geo_json_98d05786af08199d8f9bea63dfc08975_add (data) {\n",
       "            geo_json_98d05786af08199d8f9bea63dfc08975\n",
       "                .addData(data)\n",
       "                .addTo(map_43d2caae28f573ecaf6ded4a00f787c8);\n",
       "        }\n",
       "            geo_json_98d05786af08199d8f9bea63dfc08975_add({&quot;features&quot;: [{&quot;geometry&quot;: {&quot;coordinates&quot;: [11.0284917, 12.8676476], &quot;type&quot;: &quot;Point&quot;}, &quot;id&quot;: &quot;0&quot;, &quot;type&quot;: &quot;Feature&quot;}], &quot;type&quot;: &quot;FeatureCollection&quot;});\n",
       "\n",
       "        \n",
       "    \n",
       "            var layer_control_a6642fbab64911dbe2d1508a4c62fbbe = {\n",
       "                base_layers : {\n",
       "                    &quot;openstreetmap&quot; : tile_layer_5ace6c7f004b259aab917f69e4ab0db8,\n",
       "                },\n",
       "                overlays :  {\n",
       "                    &quot;NAIP&quot; : tile_layer_953a718695e9556bdb98c840e763e29f,\n",
       "                    &quot;Bounding Box&quot; : geo_json_ffadfc1bee0db85c40abcb3aa1a1b667,\n",
       "                    &quot;Point&quot; : geo_json_98d05786af08199d8f9bea63dfc08975,\n",
       "                },\n",
       "            };\n",
       "            L.control.layers(\n",
       "                layer_control_a6642fbab64911dbe2d1508a4c62fbbe.base_layers,\n",
       "                layer_control_a6642fbab64911dbe2d1508a4c62fbbe.overlays,\n",
       "                {&quot;autoZIndex&quot;: true, &quot;collapsed&quot;: true, &quot;position&quot;: &quot;topright&quot;}\n",
       "            ).addTo(map_43d2caae28f573ecaf6ded4a00f787c8);\n",
       "        \n",
       "&lt;/script&gt;\" style=\"position:absolute;width:100%;height:100%;left:0;top:0;border:none !important;\" allowfullscreen webkitallowfullscreen mozallowfullscreen></iframe></div></div>"
      ],
      "text/plain": [
       "<folium.folium.Map at 0x26cf5bd12b0>"
      ]
     },
     "metadata": {},
     "output_type": "display_data"
    }
   ],
   "source": [
    "# Create a map visualisation\n",
    "mp = create_map(\n",
    "    (LAT,LNG), \n",
    "    zoom=14,\n",
    ")\n",
    "\n",
    "# Display dataset\n",
    "mp.add_ee_layer(\n",
    "    collection.get_image(),\n",
    "    collection.get_vis_params(),\n",
    "    'NAIP',\n",
    ")\n",
    "\n",
    "# Display supplementary information\n",
    "mp = show_polygon(mp, region)\n",
    "mp = show_point(mp, ee.Geometry.Point(LNG,LAT))\n",
    "\n",
    "# Show map\n",
    "mp.add_child(folium.LayerControl())\n",
    "display(mp)"
   ]
  },
  {
   "cell_type": "markdown",
   "id": "4b81a1c2",
   "metadata": {},
   "source": [
    "## Export Images\n",
    "\n",
    "It is possible to export the images from the data collection as well, this by using the collection's `export_as_png` call."
   ]
  },
  {
   "cell_type": "code",
   "execution_count": 31,
   "id": "a99b799f",
   "metadata": {},
   "outputs": [
    {
     "data": {
      "image/png": "[encoded data removed]",
      "text/plain": [
       "<IPython.core.display.Image object>"
      ]
     },
     "metadata": {},
     "output_type": "display_data"
    }
   ],
   "source": [
    "filename = Path.cwd() / 'notebooks/example2.png'\n",
    "collection.export_as_png(\n",
    "    file_name=filename,\n",
    ")\n",
    "\n",
    "img = Image(filename)\n",
    "display(img)"
   ]
  },
  {
   "cell_type": "code",
   "execution_count": null,
   "id": "fef4dcf2",
   "metadata": {},
   "outputs": [],
   "source": []
  }
 ],
 "metadata": {
  "hide_input": false,
  "kernelspec": {
   "display_name": "Python 3.9.5 ('base')",
   "language": "python",
   "name": "python3"
  },
  "language_info": {
   "codemirror_mode": {
    "name": "ipython",
    "version": 3
   },
   "file_extension": ".py",
   "mimetype": "text/x-python",
   "name": "python",
   "nbconvert_exporter": "python",
   "pygments_lexer": "ipython3",
   "version": "3.9.5"
  },
  "vscode": {
   "interpreter": {
    "hash": "efa9103b796cd6f93073114f1d87886cd6bdfee7c3fb36e3166b39f029194a36"
   }
  }
 },
 "nbformat": 4,
 "nbformat_minor": 5
}
